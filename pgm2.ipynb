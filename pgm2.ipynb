{
  "nbformat": 4,
  "nbformat_minor": 0,
  "metadata": {
    "colab": {
      "provenance": [],
      "authorship_tag": "ABX9TyNrOvM+yHSe1wTez3yuwu0i",
      "include_colab_link": true
    },
    "kernelspec": {
      "name": "python3",
      "display_name": "Python 3"
    },
    "language_info": {
      "name": "python"
    }
  },
  "cells": [
    {
      "cell_type": "markdown",
      "metadata": {
        "id": "view-in-github",
        "colab_type": "text"
      },
      "source": [
        "<a href=\"https://colab.research.google.com/github/rameshre/DataScience/blob/main/pgm2.ipynb\" target=\"_parent\"><img src=\"https://colab.research.google.com/assets/colab-badge.svg\" alt=\"Open In Colab\"/></a>"
      ]
    },
    {
      "cell_type": "code",
      "execution_count": 6,
      "metadata": {
        "colab": {
          "base_uri": "https://localhost:8080/"
        },
        "id": "ElkwZYc0pJD-",
        "outputId": "ab252e5f-3b23-4f56-d90c-8d61ca809ff0"
      },
      "outputs": [
        {
          "output_type": "stream",
          "name": "stdout",
          "text": [
            "[2 2 0 1 1 1 0 2 2 1 2 0 0 1]\n",
            "Temp: [1 1 1 2 0 0 0 2 0 2 2 2 1 2]\n",
            "Play: [0 0 1 1 1 0 1 0 1 1 1 1 1 0]\n",
            "features [(2, 1), (2, 1), (0, 1), (1, 2), (1, 0), (1, 0), (0, 0), (2, 2), (2, 0), (1, 2), (2, 2), (0, 2), (0, 1), (1, 2)]\n",
            "Predicted Value: [1]\n"
          ]
        }
      ],
      "source": [
        "weather=['Sunny', 'Sunny','Overcast', 'Rainy', 'Rainy', 'Rainy','Overcast', 'Sunny', 'Sunny',\n",
        "'Rainy', 'Sunny', 'Overcast','Overcast', 'Rainy']\n",
        "temp=['Hot', 'Hot', 'Hot', 'Mild', 'Cool', 'Cool', 'Cool', 'Mild','Cool', 'Mild', 'Mild', 'Mild', 'Hot', 'Mild']\n",
        "play=['No','No', 'Yes', 'Yes','Yes', 'No', 'Yes','No' ,'Yes','Yes','Yes', 'Yes', 'Yes', 'No']\n",
        "from sklearn import preprocessing\n",
        "#creating labelEncoder\n",
        "le =preprocessing.LabelEncoder()\n",
        "# Converting string labels into numbers.\n",
        "weather_encoded=le.fit_transform(weather)\n",
        "print(weather_encoded)\n",
        "temp_encoded=le.fit_transform(temp)\n",
        "label=le.fit_transform(play)\n",
        "print(\"Temp:\",temp_encoded)\n",
        "print(\"Play:\",label)\n",
        "features=zip(weather_encoded,temp_encoded)\n",
        "features= list(features)\n",
        "features\n",
        "print(\"features\",features)\n",
        "from sklearn.naive_bayes import GaussianNB\n",
        "#Create a Gaussian Classifier\n",
        "model = GaussianNB()\n",
        "#Train the model using the training sets\n",
        "model.fit(features, label)\n",
        "#Predict Output\n",
        "predicted= model.predict([[0,2]]) #0:Overcast, 2:Mild\n",
        "print(\"Predicted Value:\", predicted)"
      ]
    }
  ]
}