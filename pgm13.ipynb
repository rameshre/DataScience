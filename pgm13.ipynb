{
  "nbformat": 4,
  "nbformat_minor": 0,
  "metadata": {
    "colab": {
      "provenance": [],
      "authorship_tag": "ABX9TyOFA3oF6DBj3mguw9njw1AN",
      "include_colab_link": true
    },
    "kernelspec": {
      "name": "python3",
      "display_name": "Python 3"
    },
    "language_info": {
      "name": "python"
    }
  },
  "cells": [
    {
      "cell_type": "markdown",
      "metadata": {
        "id": "view-in-github",
        "colab_type": "text"
      },
      "source": [
        "<a href=\"https://colab.research.google.com/github/rameshre/DataScience/blob/main/pgm13.ipynb\" target=\"_parent\"><img src=\"https://colab.research.google.com/assets/colab-badge.svg\" alt=\"Open In Colab\"/></a>"
      ]
    },
    {
      "cell_type": "code",
      "execution_count": 3,
      "metadata": {
        "id": "jot_8tBHKx4c"
      },
      "outputs": [],
      "source": [
        "import numpy as np\n",
        "import matplotlib.pyplot as plt\n",
        "import pandas as pd\n",
        "import sklearn"
      ]
    },
    {
      "cell_type": "code",
      "source": [
        "dataset=pd.read_csv('Mall_Customers.csv')\n",
        "X= dataset.iloc[:, [3, 4]].values\n",
        "from sklearn.cluster import KMeans\n",
        "wcss=[]\n",
        "for i in range(1, 11):\n",
        "  kmeans=KMeans(n_clusters =i, init = 'k-means++', random_state = 42) \n",
        "  kmeans.fit(X)\n",
        "  wcss.append(kmeans.inertia_)\n",
        "plt.plot(range(1, 11), wcss)\n",
        "plt.xlabel('Number of clusters')\n",
        "plt.ylabel('WCSS')\n",
        "plt.show()\n",
        "kmeans=KMeans(n_clusters = 5, init = \"k-meanst++\", random_state = 42)\n",
        "y_kmeans = kmeans.fit_predict(X)\n",
        "print(y_kmeans)\n",
        "plt.scatter(X[y_kmeans==0, 0], X[y_kmeans ==0, 1], s = 50, c = 'red', label = 'Cluster1')\n",
        "plt.scatter(X[y_kmeans==1, 0], X[y_kmeans==1,1], s= 50, c = 'blue', label = 'Cluster2')\n",
        "plt.scatter(X[y_kmeans==2, 0], X[y_kmeans==2, 1], s= 50, c = 'green', label = 'Cluster3')\n",
        "plt.scatter(X[y_kmeans==3, 0], X[y_kmeans==3, 1], s= 50, c = 'violet', label = 'Cluster4')\n",
        "plt.scatter(X[y_kmeans==4, 0], X[y_kmeans==4, 1], s= 50, c = 'yellow', label = 'Cluster5')\n",
        "plt.scatter(kmeans.cluster_centers_[:,0], 0J. kmeans.cluster centers , 11, s 100,marker 'x, catter(kmeans.clust\n",
        "c"
      ],
      "metadata": {
        "id": "aOHgvkRCLDIs"
      },
      "execution_count": null,
      "outputs": []
    }
  ]
}